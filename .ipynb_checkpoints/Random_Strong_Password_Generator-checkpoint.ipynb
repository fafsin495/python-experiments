{
 "cells": [
  {
   "cell_type": "markdown",
   "metadata": {
    "id": "mTxT89wwn6nC"
   },
   "source": [
    "## Generate Random **Strong Password** According to the Given Length\n"
   ]
  },
  {
   "cell_type": "code",
   "execution_count": 1,
   "metadata": {
    "id": "W_E_a0kwiK54"
   },
   "outputs": [],
   "source": [
    "import string\n",
    "import random"
   ]
  },
  {
   "cell_type": "markdown",
   "metadata": {
    "id": "jbVqjeIjqzTU"
   },
   "source": [
    "## Basic Version\n",
    "\n",
    "User could only select *password length*."
   ]
  },
  {
   "cell_type": "code",
   "execution_count": 2,
   "metadata": {
    "id": "by_nPU7jpI0v"
   },
   "outputs": [],
   "source": [
    "LETTERS = string.ascii_letters \n",
    "DIGITS = string.digits \n",
    "PUNCTUATION = string.punctuation\n",
    "\n",
    "ALL = LETTERS + DIGITS + PUNCTUATION"
   ]
  },
  {
   "cell_type": "code",
   "execution_count": 3,
   "metadata": {
    "colab": {
     "base_uri": "https://localhost:8080/"
    },
    "id": "XcutVEItm9sh",
    "outputId": "a9e104f6-2c31-4f14-fd92-431932a2209b"
   },
   "outputs": [
    {
     "name": "stdout",
     "output_type": "stream",
     "text": [
      "wvsnQ[15hF.4\n"
     ]
    }
   ],
   "source": [
    "length = 12 #password length\n",
    "\n",
    "random_list = [random.choice(ALL) for i in range(length)]\n",
    "password = \"\".join(random_list)\n",
    "print(password)"
   ]
  },
  {
   "cell_type": "markdown",
   "metadata": {
    "id": "9kDgYzYGp7ai"
   },
   "source": [
    "## Adding Some Options\n",
    "\n",
    "Please visit https://passwordsgenerator.net/. As you can see, some options are available on this website.\n",
    "\n",
    "How can we enable users to choose these options?\n",
    "\n",
    "*   Include Letters\n",
    "*   Include Numbers\n",
    "*   Include Punctuation\n"
   ]
  },
  {
   "cell_type": "code",
   "execution_count": 4,
   "metadata": {
    "id": "oQwt9sM8p4w8"
   },
   "outputs": [],
   "source": [
    "# add your code here\n",
    "\n",
    "# Dışarıdan Girdi Alıyoruz\n",
    "# Kullanıcıdan şifresinin harf,rakam veya ozelkarakterlerden hangisi veya hangileri ile oluşturulmasını istediğini soruyoruz.\n",
    "harf = input(\"Lütfen oluşturmak istediğiniz şifrenin içeriğini seçiniz ; \\n Harflerden Oluşsun mu ? = \\n \\t 0(Hayır) = \\n \\t 1 (Evet) =\")\n",
    "rakam = input(\"Lütfen oluşturmak istediğiniz şifrenin içeriğini seçiniz ; \\n Rakamlardan Oluşsun mu ? = \\n \\t 0(Hayır) = \\n \\t 1 (Evet) =\")\n",
    "ozelKarakter = input(\"Lütfen oluşturmak istediğiniz şifrenin içeriğini seçiniz ; \\n Ozel Karakter'den Oluşsun mu ? = \\n \\t 0(Hayır) = \\n \\t 1 (Evet) =\")\n",
    "\n",
    "    \n",
    "#HARFLERİN Değişkene atanması\n",
    "letter = string.ascii_letters \n",
    "#RAKAMLARIN Değişkene atanması\n",
    "digits = string.digits \n",
    "#ÖZEL Karakterlerin Değişkene atanması\n",
    "punctuation = string.punctuation\n",
    "#Şifre uzunluğu\n",
    "length = 12 \n",
    "\n",
    "\n",
    "\n",
    "if ((harf !=\"0\" and harf != \"1\") or (rakam != \"0\" and rakam != \"1\") or (ozelKarakter != \"0\" and ozelKarakter !=\"1\") ):\n",
    "    print(\"Lütfen Geçerli Değer Aralıklarında Girdiyi Sağlayın\")\n",
    "    \n",
    "# Yanlızca Harflerden oluşacak İse\n",
    "elif (harf == \"1\" and rakam == \"0\" and ozelKarakter ==\"0\" ):\n",
    "    \n",
    "    sub = letter\n",
    "    random_list = [random.choice(sub) for i in range(length)]\n",
    "    password = \"\".join(random_list)\n",
    "    print(password)\n",
    "# Yanlızca Rakamlardan Oluşacak İse\n",
    "elif (harf == \"0\" and rakam == \"1\" and ozelKarakter ==\"0\" ):\n",
    "    sub = digits\n",
    "    random_list = [random.choice(sub) for i in range(length)]\n",
    "    password = \"\".join(random_list)\n",
    "    print(password)\n",
    "    \n",
    "# Yanlızca Özel Karakterlerden OLuşacak İse\n",
    "elif (harf == \"0\" and rakam == \"0\" and ozelKarakter ==\"1\" ):\n",
    "    sub = punctuation\n",
    "    random_list = [random.choice(sub) for i in range(length)]\n",
    "    password = \"\".join(random_list)\n",
    "    print(password)\n",
    "\n",
    "# Harflerden ve Rakamlardan oluşacak ise\n",
    "elif (harf == \"1\" and rakam == \"1\" and ozelKarakter ==\"0\" ):\n",
    "    sub = letter + digits\n",
    "    random_list = [random.choice(sub) for i in range(length)]\n",
    "    password = \"\".join(random_list)\n",
    "    print(password)\n",
    "\n",
    "# Harflerden ve Özel Karakterlerden oluşacak ise\n",
    "elif (harf == \"1\" and rakam == \"0\" and ozelKarakter ==\"1\" ):\n",
    "    sub = letter + punctuation\n",
    "    random_list = [random.choice(sub) for i in range(length)]\n",
    "    password = \"\".join(random_list)\n",
    "    print(password)\n",
    "\n",
    "# Rakam Ve Özel Karakterlerden oluşacak ise\n",
    "elif (harf == \"0\" and rakam == \"1\" and ozelKarakter ==\"1\" ):\n",
    "    sub = digits + punctuation\n",
    "    random_list = [random.choice(sub) for i in range(length)]\n",
    "    password = \"\".join(random_list)\n",
    "    print(password)\n",
    "\n",
    "# Rakam Harf ve Özel karakterlerden oluşacak ise\n",
    "elif (harf == \"1\" and rakam == \"1\" and ozelKarakter ==\"1\" ):\n",
    "    sub = letter + digits + punctuation\n",
    "    random_list = [random.choice(sub) for i in range(length)]\n",
    "    password = \"\".join(random_list)\n",
    "    print(password)\n"
   ]
  }
 ],
 "metadata": {
  "colab": {
   "name": "Random Strong Password Generator.ipynb",
   "provenance": []
  },
  "kernelspec": {
   "display_name": "Python 3",
   "language": "python",
   "name": "python3"
  },
  "language_info": {
   "codemirror_mode": {
    "name": "ipython",
    "version": 3
   },
   "file_extension": ".py",
   "mimetype": "text/x-python",
   "name": "python",
   "nbconvert_exporter": "python",
   "pygments_lexer": "ipython3",
   "version": "3.8.6rc1"
  }
 },
 "nbformat": 4,
 "nbformat_minor": 1
}
